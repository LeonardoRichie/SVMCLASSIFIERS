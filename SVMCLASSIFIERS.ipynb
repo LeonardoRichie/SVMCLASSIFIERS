{
 "cells": [
  {
   "cell_type": "code",
   "execution_count": 3,
   "id": "94809117-06db-4ca2-9144-164296ba8226",
   "metadata": {},
   "outputs": [
    {
     "name": "stdout",
     "output_type": "stream",
     "text": [
      "<class 'pandas.core.frame.DataFrame'>\n",
      "RangeIndex: 30 entries, 0 to 29\n",
      "Data columns (total 8 columns):\n",
      " #   Column          Non-Null Count  Dtype  \n",
      "---  ------          --------------  -----  \n",
      " 0   Unnamed: 0      30 non-null     int64  \n",
      " 1   season          30 non-null     int64  \n",
      " 2   episode_number  30 non-null     int64  \n",
      " 3   title           30 non-null     object \n",
      " 4   airdate         30 non-null     float64\n",
      " 5   rating          30 non-null     float64\n",
      " 6   total_votes     30 non-null     int64  \n",
      " 7   description     30 non-null     object \n",
      "dtypes: float64(2), int64(4), object(2)\n",
      "memory usage: 2.0+ KB\n"
     ]
    }
   ],
   "source": [
    "import pandas as pd\n",
    "import numpy as np\n",
    "from sklearn.metrics import accuracy_score\n",
    "from sklearn.svm import SVC\n",
    "from sklearn import datasets\n",
    "import matplotlib.pyplot as plt\n",
    "\n",
    " \n",
    "\n",
    "df = pd.read_csv(\"IMDBTABLE.csv\")\n",
    "print(df)\n",
    "\n",
    "#plt.scatter(df['episode_number'], df['airdate'],marker='o')\n",
    "#plt.scatter(df['season'], df['rating'],marker='*')\n",
    "#plt.xlabel(\"airdate\")\n",
    "#plt.xlabel(\"episode_number\")\n",
    "#df.info()"
   ]
  },
  {
   "cell_type": "code",
   "execution_count": 22,
   "id": "72b4350d-38ea-4004-821c-8f241be59d9a",
   "metadata": {},
   "outputs": [
    {
     "data": {
      "image/png": "[encoded data removed]",
      "text/plain": [
       "<Figure size 432x288 with 1 Axes>"
      ]
     },
     "metadata": {
      "needs_background": "light"
     },
     "output_type": "display_data"
    }
   ],
   "source": [
    "df['Rating_score'] = np.where(df['rating'] > 9, 'Good', 'Bad')\n",
    "plt.scatter(df['title'][df['Rating_score'] == 'Good'], df['total_votes'][df['Rating_score'] == 'Good'], color='red', marker='o', label='Good')\n",
    "plt.scatter(df['title'][df['Rating_score'] == 'Bad'], df['total_votes'][df['Rating_score'] == 'Bad'], color='green', marker='*', label='Bad')\n",
    "plt.xlabel('title')\n",
    "plt.ylabel('total_votes')\n",
    "plt.legend(loc = 'upper left')\n",
    "plt.show()\n",
    "\n",
    "\n",
    "\n"
   ]
  },
  {
   "cell_type": "code",
   "execution_count": null,
   "id": "c5d9f673-81b4-454b-bd07-274868ae31c9",
   "metadata": {},
   "outputs": [],
   "source": [
    "#df.iloc[0:30, :].loc[:,\"season\":\"episode_number\"]\n",
    "x= df.iloc[0:30,1:2]\n",
    "y = df.loc[0:30, 'Rating_score']\n",
    "plt.show()\n",
    "\n",
    "svm = SVC(kernel = 'rbf', random_state = 1, gamma = 0.08, C=1)\n",
    "\n",
    "svm.fit(x,y)\n",
    "\n",
    "y_pred = svm.predict(x)\n",
    "\n",
    "print(accuracy_score(y, y_pred)"
   ]
  },
  {
   "cell_type": "code",
   "execution_count": null,
   "id": "2154105c-5b68-49c3-828b-ba32a59e1045",
   "metadata": {},
   "outputs": [],
   "source": []
  }
 ],
 "metadata": {
  "kernelspec": {
   "display_name": "Python 3 (ipykernel)",
   "language": "python",
   "name": "python3"
  },
  "language_info": {
   "codemirror_mode": {
    "name": "ipython",
    "version": 3
   },
   "file_extension": ".py",
   "mimetype": "text/x-python",
   "name": "python",
   "nbconvert_exporter": "python",
   "pygments_lexer": "ipython3",
   "version": "3.9.12"
  }
 },
 "nbformat": 4,
 "nbformat_minor": 5
}
